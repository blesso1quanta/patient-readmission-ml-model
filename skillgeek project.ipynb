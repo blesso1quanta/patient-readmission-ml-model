{
 "cells": [
  {
   "cell_type": "code",
   "execution_count": 33,
   "id": "a84cf4f7",
   "metadata": {
    "scrolled": false
   },
   "outputs": [
    {
     "data": {
      "text/plain": [
       "75    26068\n",
       "65    22483\n",
       "55    17256\n",
       "85    17197\n",
       "95     2793\n",
       "Name: age, dtype: int64"
      ]
     },
     "execution_count": 33,
     "metadata": {},
     "output_type": "execute_result"
    }
   ],
   "source": [
    "import pandas as pd\n",
    "df = pd.read_csv(\"\"\"C:\\\\Users\\\\bless\\\\Downloads\\\\BD\\\\BD\\\\diabetic_data.csv\"\"\")\n",
    "list(df['age'].unique())\n",
    "for i in list(df['age'].unique()):\n",
    "    x = str(i)\n",
    "    x =x[1:]\n",
    "    x =x[:-1]\n",
    "    agerange = x.split(\"-\")\n",
    "    age = int((int(agerange[1])+int(agerange[0]))/2)\n",
    "    df[\"age\"] = df[\"age\"].replace([i],age)\n",
    "df.drop(df[df['age'] <= 50].index,inplace = True)\n",
    "df['age'].value_counts()\n",
    "\n"
   ]
  },
  {
   "cell_type": "code",
   "execution_count": 25,
   "id": "0ea25a6e",
   "metadata": {
    "scrolled": true
   },
   "outputs": [
    {
     "name": "stdout",
     "output_type": "stream",
     "text": [
      "<class 'pandas.core.frame.DataFrame'>\n",
      "RangeIndex: 101766 entries, 0 to 101765\n",
      "Data columns (total 11 columns):\n",
      " #   Column              Non-Null Count   Dtype \n",
      "---  ------              --------------   ----- \n",
      " 0   num_medications     101766 non-null  int64 \n",
      " 1   number_outpatient   101766 non-null  int64 \n",
      " 2   number_emergency    101766 non-null  int64 \n",
      " 3   time_in_hospital    101766 non-null  int64 \n",
      " 4   number_inpatient    101766 non-null  int64 \n",
      " 5   encounter_id        101766 non-null  int64 \n",
      " 6   age                 101766 non-null  object\n",
      " 7   num_lab_procedures  101766 non-null  int64 \n",
      " 8   number_diagnoses    101766 non-null  int64 \n",
      " 9   num_procedures      101766 non-null  int64 \n",
      " 10  readmitted          101766 non-null  object\n",
      "dtypes: int64(9), object(2)\n",
      "memory usage: 8.5+ MB\n"
     ]
    },
    {
     "name": "stderr",
     "output_type": "stream",
     "text": [
      "C:\\Users\\bless\\anaconda3\\lib\\site-packages\\IPython\\core\\interactiveshell.py:3444: DtypeWarning: Columns (10) have mixed types.Specify dtype option on import or set low_memory=False.\n",
      "  exec(code_obj, self.user_global_ns, self.user_ns)\n"
     ]
    }
   ],
   "source": [
    "import pandas as pd\n",
    "df = pd.read_csv(\"\"\"C:\\\\Users\\\\bless\\\\Downloads\\\\BD\\\\BD\\\\diabetic_data.csv\"\"\", na_values=[\"?\"])\n",
    "data = [df['num_medications'], df['number_outpatient'], df['number_emergency'], df['time_in_hospital'],\n",
    "df['number_inpatient'], df['encounter_id'], df['age'], df['num_lab_procedures'], df['number_diagnoses'],\n",
    "df['num_procedures'], df['readmitted']]\n",
    "dfm = pd.concat(data, axis = 1)\n",
    "dfm.info()"
   ]
  },
  {
   "cell_type": "code",
   "execution_count": 72,
   "id": "4ae887b4",
   "metadata": {
    "scrolled": true
   },
   "outputs": [
    {
     "name": "stderr",
     "output_type": "stream",
     "text": [
      "C:\\Users\\bless\\anaconda3\\lib\\site-packages\\IPython\\core\\interactiveshell.py:3444: DtypeWarning: Columns (10) have mixed types.Specify dtype option on import or set low_memory=False.\n",
      "  exec(code_obj, self.user_global_ns, self.user_ns)\n",
      "C:\\Users\\bless\\AppData\\Local\\Temp/ipykernel_21868/3052910612.py:46: SettingWithCopyWarning: \n",
      "A value is trying to be set on a copy of a slice from a DataFrame.\n",
      "Try using .loc[row_indexer,col_indexer] = value instead\n",
      "\n",
      "See the caveats in the documentation: https://pandas.pydata.org/pandas-docs/stable/user_guide/indexing.html#returning-a-view-versus-a-copy\n",
      "  ndf[\"zscore\"] = (df[columns]-df[columns].mean())/df[columns].std()\n"
     ]
    },
    {
     "data": {
      "text/plain": [
       "100634    1\n",
       "87440     1\n",
       "56288     1\n",
       "32611     1\n",
       "85561     1\n",
       "         ..\n",
       "72077     1\n",
       "98274     1\n",
       "96614     1\n",
       "40497     1\n",
       "72367     1\n",
       "Name: readmitted, Length: 188, dtype: int64"
      ]
     },
     "execution_count": 72,
     "metadata": {},
     "output_type": "execute_result"
    }
   ],
   "source": [
    "import pandas as pd\n",
    "from scipy import stats\n",
    "from sklearn.tree import DecisionTreeClassifier\n",
    "from sklearn import ensemble\n",
    "from sklearn.model_selection import train_test_split\n",
    "from sklearn.metrics import accuracy_score\n",
    "import numpy as np\n",
    "from sklearn.cluster import KMeans\n",
    "from sklearn.preprocessing import MinMaxScaler\n",
    "from matplotlib import pyplot as plt\n",
    "%matplotlib inline\n",
    "df = pd.read_csv(\"\"\"C:\\\\Users\\\\bless\\\\Downloads\\\\BD\\\\BD\\\\diabetic_data.csv\"\"\", na_values=[\"?\"])\n",
    "df.drop('weight', inplace=True, axis=1)\n",
    "df['readmitted'] = df[\"readmitted\"].replace('NO',0)\n",
    "df['readmitted'] = df[\"readmitted\"].replace('>30',1)\n",
    "df['readmitted'] = df[\"readmitted\"].replace('<30',1)\n",
    "df['diabetesMed'] = df[\"diabetesMed\"].replace('Yes',1)\n",
    "df['diabetesMed'] = df[\"diabetesMed\"].replace('No',0)\n",
    "df['gender'] = df['gender'].replace('Female',0)\n",
    "df['gender'] = df['gender'].replace('Male', 1)\n",
    "for columns in df.columns:\n",
    "    variable = df[columns].value_counts().idxmax()\n",
    "    max_rv = df[columns].value_counts(normalize = True)[variable]\n",
    "    if max_rv >= 0.95:\n",
    "        df.drop(columns, inplace=True, axis=1)\n",
    "list(df['age'].unique())\n",
    "for i in list(df['age'].unique()):\n",
    "    x = str(i)\n",
    "    x =x[1:]\n",
    "    x =x[:-1]\n",
    "    agerange = x.split(\"-\")\n",
    "    age = int((int(agerange[1])+int(agerange[0]))/2)\n",
    "    df[\"age\"] = df[\"age\"].replace([i],age)\n",
    "df[\"diag_1\"] = df[\"diag_1\"].fillna(0)\n",
    "df[\"diag_2\"] = df[\"diag_2\"].fillna(0)\n",
    "df[\"diag_3\"] = df[\"diag_3\"].fillna(0)\n",
    "df.dropna(axis=0, how='any', thresh=None, subset=None, inplace=True)\n",
    "df['gender'] = df['gender'].astype('int64')\n",
    "g = df.groupby(\"diag_3\")\n",
    "gdf = g.get_group('250')\n",
    "f = gdf.groupby('readmitted')\n",
    "fdf = f.get_group(1)\n",
    "ndf = fdf.select_dtypes(include= \"int64\")\n",
    "cdf = df.select_dtypes(include= 'object')\n",
    "for columns in ndf.columns:\n",
    "    ndf[\"zscore\"] = (df[columns]-df[columns].mean())/df[columns].std()\n",
    "    ndf = ndf[(ndf[\"zscore\"] < 3) & (ndf[\"zscore\"] > -3)]\n",
    "    ndf.drop(\"zscore\", inplace=True, axis=1)\n",
    "ndf = ndf.drop_duplicates(subset = \"patient_nbr\", keep = \"first\")\n",
    "data = [ndf['num_medications'], ndf['number_outpatient'], ndf['number_emergency'], ndf['time_in_hospital'],\n",
    "ndf['number_inpatient'], ndf['encounter_id'], ndf['age'], ndf['num_lab_procedures'], ndf['number_diagnoses'],\n",
    "ndf['num_procedures'], ndf['readmitted'], ndf['gender']]\n",
    "dfm = pd.concat(data, axis = 1)\n",
    "x = dfm.drop(columns = ['readmitted'])\n",
    "y = dfm['readmitted']\n",
    "x_train, x_test, y_train, y_test = train_test_split(x, y, test_size = 0.2)\n",
    "y_test\n"
   ]
  },
  {
   "cell_type": "code",
   "execution_count": null,
   "id": "1ebe2f07",
   "metadata": {},
   "outputs": [],
   "source": []
  },
  {
   "cell_type": "code",
   "execution_count": null,
   "id": "eeee9663",
   "metadata": {},
   "outputs": [],
   "source": []
  }
 ],
 "metadata": {
  "kernelspec": {
   "display_name": "Python 3 (ipykernel)",
   "language": "python",
   "name": "python3"
  },
  "language_info": {
   "codemirror_mode": {
    "name": "ipython",
    "version": 3
   },
   "file_extension": ".py",
   "mimetype": "text/x-python",
   "name": "python",
   "nbconvert_exporter": "python",
   "pygments_lexer": "ipython3",
   "version": "3.9.7"
  }
 },
 "nbformat": 4,
 "nbformat_minor": 5
}
